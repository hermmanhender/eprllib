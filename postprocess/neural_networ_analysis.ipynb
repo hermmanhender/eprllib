{
 "cells": [
  {
   "cell_type": "code",
   "execution_count": null,
   "metadata": {},
   "outputs": [],
   "source": [
    "import ray\n",
    "from ray.rllib.policy.policy import Policy\n",
    "import torch\n",
    "import matplotlib.pyplot as plt\n",
    "import seaborn as sns\n",
    "import numpy as np\n",
    "\n",
    "# Inicializar Ray si aún no lo has hecho\n",
    "ray.init()\n",
    "\n",
    "# Cargar el agente y el modelo desde el checkpoint\n",
    "# Reemplaza 'checkpoint_dir' con la ruta real de tu directorio de checkpoints\n",
    "# se importan las políticas convencionales para la configuracion especificada\n",
    "checkpoint_path = \"C:/Users/grhen/ray_results/VN_P1_0.5_DQN/1024p2x512_dueT1x512_douT_DQN_cb9bc_00000/checkpoint_000064\"\n",
    "# Use the `from_checkpoint` utility of the Policy class:\n",
    "policy = Policy.from_checkpoint(checkpoint_path)\n",
    "\n",
    "# Obtener el modelo PyTorch del agente\n",
    "model = policy.model\n",
    "\n",
    "# Obtener los pesos de la red neuronal\n",
    "# Supongamos que estamos interesados en los pesos de la primera capa lineal\n",
    "weights = model.fc1.weight.data.numpy()\n",
    "\n",
    "# Visualización de los pesos como un mapa de calor\n",
    "plt.figure(figsize=(10, 8))\n",
    "sns.heatmap(weights, cmap='coolwarm', annot=True, fmt=\".2f\")\n",
    "plt.title('Mapa de calor de los pesos de la red neuronal')\n",
    "plt.xlabel('Neuronas en la capa de entrada')\n",
    "plt.ylabel('Neuronas en la capa de salida')\n",
    "plt.show()\n",
    "\n",
    "# Generar un tensor de entrada de ejemplo\n",
    "# Esto es opcional y depende de tus necesidades específicas\n",
    "# Aquí estoy generando un tensor de entrada de tamaño (1, 10) para una red con 10 neuronas en la capa de entrada\n",
    "input_data = torch.randn(1, 10)\n",
    "\n",
    "# Obtener las activaciones de la red neuronal para el tensor de entrada de ejemplo\n",
    "# Supongamos que estamos interesados en las activaciones de la primera capa oculta\n",
    "activations = model.relu1(input_data).detach().numpy()\n",
    "\n",
    "# Visualización de las activaciones como un gráfico de barras\n",
    "plt.figure(figsize=(8, 6))\n",
    "plt.bar(np.arange(len(activations[0])), activations[0])\n",
    "plt.title('Activaciones de las neuronas en la primera capa oculta de la red neuronal')\n",
    "plt.xlabel('Índice de la neurona')\n",
    "plt.ylabel('Activación')\n",
    "plt.show()"
   ]
  }
 ],
 "metadata": {
  "kernelspec": {
   "display_name": "ray291",
   "language": "python",
   "name": "python3"
  },
  "language_info": {
   "codemirror_mode": {
    "name": "ipython",
    "version": 3
   },
   "file_extension": ".py",
   "mimetype": "text/x-python",
   "name": "python",
   "nbconvert_exporter": "python",
   "pygments_lexer": "ipython3",
   "version": "3.10.13"
  }
 },
 "nbformat": 4,
 "nbformat_minor": 2
}
